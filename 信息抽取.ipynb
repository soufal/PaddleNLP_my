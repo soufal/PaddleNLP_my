{
 "cells": [
  {
   "cell_type": "markdown",
   "metadata": {
    "collapsed": false
   },
   "source": [
    "# 作业\n",
    "\n",
    "- 补全程序中的代码，理解其含义，并跑通整个项目；\n",
    "- 报名参加[千言数据集：信息抽取比赛](https://aistudio.baidu.com/aistudio/competition/detail/46)。"
   ]
  },
  {
   "cell_type": "markdown",
   "metadata": {
    "collapsed": false
   },
   "source": [
    "# 基于预训练模型完成实体关系抽取\n",
    "\n",
    "信息抽取旨在从**非结构化自然语言文本中提取结构化知识**，如实体、关系、事件等。对于给定的自然语言句子，根据预先定义的schema集合，抽取出所有满足schema约束的SPO三元组。\n",
    "\n",
    "例如，「妻子」关系的schema定义为：      \n",
    "{      \n",
    "    S_TYPE: 人物,        \n",
    "    P: 妻子,      \n",
    "    O_TYPE: {      \n",
    "        @value: 人物       \n",
    "    }       \n",
    "}        \n",
    "\n",
    "该示例展示了如何使用PaddleNLP快速完成实体关系抽取，参与[千言信息抽取-关系抽取比赛](https://aistudio.baidu.com/aistudio/competition/detail/46)打榜。\n",
    "\n",
    "\n"
   ]
  },
  {
   "cell_type": "code",
   "execution_count": null,
   "metadata": {
    "collapsed": false
   },
   "outputs": [
    {
     "name": "stdout",
     "output_type": "stream",
     "text": [
      "Looking in indexes: https://mirror.baidu.com/pypi/simple/\n",
      "Collecting paddlenlp\n",
      "\u001b[?25l  Downloading https://mirror.baidu.com/pypi/packages/b1/e9/128dfc1371db3fc2fa883d8ef27ab6b21e3876e76750a43f58cf3c24e707/paddlenlp-2.0.2-py3-none-any.whl (426kB)\n",
      "\u001b[K     |████████████████████████████████| 430kB 10.9MB/s eta 0:00:01\n",
      "\u001b[?25hRequirement already satisfied, skipping upgrade: h5py in /opt/conda/envs/python35-paddle120-env/lib/python3.7/site-packages (from paddlenlp) (2.9.0)\n",
      "Requirement already satisfied, skipping upgrade: seqeval in /opt/conda/envs/python35-paddle120-env/lib/python3.7/site-packages (from paddlenlp) (1.2.2)\n",
      "Requirement already satisfied, skipping upgrade: multiprocess in /opt/conda/envs/python35-paddle120-env/lib/python3.7/site-packages (from paddlenlp) (0.70.11.1)\n",
      "Requirement already satisfied, skipping upgrade: colorama in /opt/conda/envs/python35-paddle120-env/lib/python3.7/site-packages (from paddlenlp) (0.4.4)\n",
      "Requirement already satisfied, skipping upgrade: visualdl in /opt/conda/envs/python35-paddle120-env/lib/python3.7/site-packages (from paddlenlp) (2.1.1)\n",
      "Requirement already satisfied, skipping upgrade: colorlog in /opt/conda/envs/python35-paddle120-env/lib/python3.7/site-packages (from paddlenlp) (4.1.0)\n",
      "Requirement already satisfied, skipping upgrade: jieba in /opt/conda/envs/python35-paddle120-env/lib/python3.7/site-packages (from paddlenlp) (0.42.1)\n",
      "Requirement already satisfied, skipping upgrade: six in /opt/conda/envs/python35-paddle120-env/lib/python3.7/site-packages (from h5py->paddlenlp) (1.15.0)\n",
      "Requirement already satisfied, skipping upgrade: numpy>=1.7 in /opt/conda/envs/python35-paddle120-env/lib/python3.7/site-packages (from h5py->paddlenlp) (1.20.3)\n",
      "Requirement already satisfied, skipping upgrade: scikit-learn>=0.21.3 in /opt/conda/envs/python35-paddle120-env/lib/python3.7/site-packages (from seqeval->paddlenlp) (0.24.2)\n",
      "Requirement already satisfied, skipping upgrade: dill>=0.3.3 in /opt/conda/envs/python35-paddle120-env/lib/python3.7/site-packages (from multiprocess->paddlenlp) (0.3.3)\n",
      "Requirement already satisfied, skipping upgrade: bce-python-sdk in /opt/conda/envs/python35-paddle120-env/lib/python3.7/site-packages (from visualdl->paddlenlp) (0.8.53)\n",
      "Requirement already satisfied, skipping upgrade: pre-commit in /opt/conda/envs/python35-paddle120-env/lib/python3.7/site-packages (from visualdl->paddlenlp) (1.21.0)\n",
      "Requirement already satisfied, skipping upgrade: Flask-Babel>=1.0.0 in /opt/conda/envs/python35-paddle120-env/lib/python3.7/site-packages (from visualdl->paddlenlp) (1.0.0)\n",
      "Requirement already satisfied, skipping upgrade: requests in /opt/conda/envs/python35-paddle120-env/lib/python3.7/site-packages (from visualdl->paddlenlp) (2.22.0)\n",
      "Requirement already satisfied, skipping upgrade: shellcheck-py in /opt/conda/envs/python35-paddle120-env/lib/python3.7/site-packages (from visualdl->paddlenlp) (0.7.1.1)\n",
      "Requirement already satisfied, skipping upgrade: flake8>=3.7.9 in /opt/conda/envs/python35-paddle120-env/lib/python3.7/site-packages (from visualdl->paddlenlp) (3.8.2)\n",
      "Requirement already satisfied, skipping upgrade: flask>=1.1.1 in /opt/conda/envs/python35-paddle120-env/lib/python3.7/site-packages (from visualdl->paddlenlp) (1.1.1)\n",
      "Requirement already satisfied, skipping upgrade: Pillow>=7.0.0 in /opt/conda/envs/python35-paddle120-env/lib/python3.7/site-packages (from visualdl->paddlenlp) (7.1.2)\n",
      "Requirement already satisfied, skipping upgrade: protobuf>=3.11.0 in /opt/conda/envs/python35-paddle120-env/lib/python3.7/site-packages (from visualdl->paddlenlp) (3.14.0)\n",
      "Requirement already satisfied, skipping upgrade: joblib>=0.11 in /opt/conda/envs/python35-paddle120-env/lib/python3.7/site-packages (from scikit-learn>=0.21.3->seqeval->paddlenlp) (0.14.1)\n",
      "Requirement already satisfied, skipping upgrade: threadpoolctl>=2.0.0 in /opt/conda/envs/python35-paddle120-env/lib/python3.7/site-packages (from scikit-learn>=0.21.3->seqeval->paddlenlp) (2.1.0)\n",
      "Requirement already satisfied, skipping upgrade: scipy>=0.19.1 in /opt/conda/envs/python35-paddle120-env/lib/python3.7/site-packages (from scikit-learn>=0.21.3->seqeval->paddlenlp) (1.6.3)\n",
      "Requirement already satisfied, skipping upgrade: future>=0.6.0 in /opt/conda/envs/python35-paddle120-env/lib/python3.7/site-packages (from bce-python-sdk->visualdl->paddlenlp) (0.18.0)\n",
      "Requirement already satisfied, skipping upgrade: pycryptodome>=3.8.0 in /opt/conda/envs/python35-paddle120-env/lib/python3.7/site-packages (from bce-python-sdk->visualdl->paddlenlp) (3.9.9)\n",
      "Requirement already satisfied, skipping upgrade: cfgv>=2.0.0 in /opt/conda/envs/python35-paddle120-env/lib/python3.7/site-packages (from pre-commit->visualdl->paddlenlp) (2.0.1)\n",
      "Requirement already satisfied, skipping upgrade: aspy.yaml in /opt/conda/envs/python35-paddle120-env/lib/python3.7/site-packages (from pre-commit->visualdl->paddlenlp) (1.3.0)\n",
      "Requirement already satisfied, skipping upgrade: virtualenv>=15.2 in /opt/conda/envs/python35-paddle120-env/lib/python3.7/site-packages (from pre-commit->visualdl->paddlenlp) (16.7.9)\n",
      "Requirement already satisfied, skipping upgrade: toml in /opt/conda/envs/python35-paddle120-env/lib/python3.7/site-packages (from pre-commit->visualdl->paddlenlp) (0.10.0)\n",
      "Requirement already satisfied, skipping upgrade: identify>=1.0.0 in /opt/conda/envs/python35-paddle120-env/lib/python3.7/site-packages (from pre-commit->visualdl->paddlenlp) (1.4.10)\n",
      "Requirement already satisfied, skipping upgrade: importlib-metadata; python_version < \"3.8\" in /opt/conda/envs/python35-paddle120-env/lib/python3.7/site-packages (from pre-commit->visualdl->paddlenlp) (0.23)\n",
      "Requirement already satisfied, skipping upgrade: nodeenv>=0.11.1 in /opt/conda/envs/python35-paddle120-env/lib/python3.7/site-packages (from pre-commit->visualdl->paddlenlp) (1.3.4)\n",
      "Requirement already satisfied, skipping upgrade: pyyaml in /opt/conda/envs/python35-paddle120-env/lib/python3.7/site-packages (from pre-commit->visualdl->paddlenlp) (5.1.2)\n",
      "Requirement already satisfied, skipping upgrade: pytz in /opt/conda/envs/python35-paddle120-env/lib/python3.7/site-packages (from Flask-Babel>=1.0.0->visualdl->paddlenlp) (2019.3)\n",
      "Requirement already satisfied, skipping upgrade: Jinja2>=2.5 in /opt/conda/envs/python35-paddle120-env/lib/python3.7/site-packages (from Flask-Babel>=1.0.0->visualdl->paddlenlp) (2.10.1)\n",
      "Requirement already satisfied, skipping upgrade: Babel>=2.3 in /opt/conda/envs/python35-paddle120-env/lib/python3.7/site-packages (from Flask-Babel>=1.0.0->visualdl->paddlenlp) (2.8.0)\n",
      "Requirement already satisfied, skipping upgrade: urllib3!=1.25.0,!=1.25.1,<1.26,>=1.21.1 in /opt/conda/envs/python35-paddle120-env/lib/python3.7/site-packages (from requests->visualdl->paddlenlp) (1.25.6)\n",
      "Requirement already satisfied, skipping upgrade: chardet<3.1.0,>=3.0.2 in /opt/conda/envs/python35-paddle120-env/lib/python3.7/site-packages (from requests->visualdl->paddlenlp) (3.0.4)\n",
      "Requirement already satisfied, skipping upgrade: certifi>=2017.4.17 in /opt/conda/envs/python35-paddle120-env/lib/python3.7/site-packages (from requests->visualdl->paddlenlp) (2019.9.11)\n",
      "Requirement already satisfied, skipping upgrade: idna<2.9,>=2.5 in /opt/conda/envs/python35-paddle120-env/lib/python3.7/site-packages (from requests->visualdl->paddlenlp) (2.8)\n",
      "Requirement already satisfied, skipping upgrade: mccabe<0.7.0,>=0.6.0 in /opt/conda/envs/python35-paddle120-env/lib/python3.7/site-packages (from flake8>=3.7.9->visualdl->paddlenlp) (0.6.1)\n",
      "Requirement already satisfied, skipping upgrade: pycodestyle<2.7.0,>=2.6.0a1 in /opt/conda/envs/python35-paddle120-env/lib/python3.7/site-packages (from flake8>=3.7.9->visualdl->paddlenlp) (2.6.0)\n",
      "Requirement already satisfied, skipping upgrade: pyflakes<2.3.0,>=2.2.0 in /opt/conda/envs/python35-paddle120-env/lib/python3.7/site-packages (from flake8>=3.7.9->visualdl->paddlenlp) (2.2.0)\n",
      "Requirement already satisfied, skipping upgrade: click>=5.1 in /opt/conda/envs/python35-paddle120-env/lib/python3.7/site-packages (from flask>=1.1.1->visualdl->paddlenlp) (7.0)\n",
      "Requirement already satisfied, skipping upgrade: itsdangerous>=0.24 in /opt/conda/envs/python35-paddle120-env/lib/python3.7/site-packages (from flask>=1.1.1->visualdl->paddlenlp) (1.1.0)\n",
      "Requirement already satisfied, skipping upgrade: Werkzeug>=0.15 in /opt/conda/envs/python35-paddle120-env/lib/python3.7/site-packages (from flask>=1.1.1->visualdl->paddlenlp) (0.16.0)\n",
      "Requirement already satisfied, skipping upgrade: zipp>=0.5 in /opt/conda/envs/python35-paddle120-env/lib/python3.7/site-packages (from importlib-metadata; python_version < \"3.8\"->pre-commit->visualdl->paddlenlp) (0.6.0)\n",
      "Requirement already satisfied, skipping upgrade: MarkupSafe>=0.23 in /opt/conda/envs/python35-paddle120-env/lib/python3.7/site-packages (from Jinja2>=2.5->Flask-Babel>=1.0.0->visualdl->paddlenlp) (1.1.1)\n",
      "Requirement already satisfied, skipping upgrade: more-itertools in /opt/conda/envs/python35-paddle120-env/lib/python3.7/site-packages (from zipp>=0.5->importlib-metadata; python_version < \"3.8\"->pre-commit->visualdl->paddlenlp) (7.2.0)\n",
      "Installing collected packages: paddlenlp\n",
      "  Found existing installation: paddlenlp 2.0.1\n",
      "    Uninstalling paddlenlp-2.0.1:\n",
      "      Successfully uninstalled paddlenlp-2.0.1\n",
      "Successfully installed paddlenlp-2.0.2\n",
      "/home/aistudio/relation_extraction\n"
     ]
    }
   ],
   "source": [
    "# 安装paddlenlp最新版本\n",
    "!pip install --upgrade paddlenlp\n",
    "\n",
    "%cd relation_extraction/"
   ]
  },
  {
   "cell_type": "markdown",
   "metadata": {
    "collapsed": false
   },
   "source": [
    "## 关系抽取介绍\n",
    "\n",
    "针对 DuIE2.0 任务中多条、交叠SPO这一抽取目标，比赛对标准的 'BIO' 标注进行了扩展。\n",
    "对于每个 token，根据其在实体span中的位置（包括B、I、O三种），我们为其打上三类标签，并且根据其所参与构建的predicate种类，将 B 标签进一步区分。给定 schema 集合，对于 N 种不同 predicate，以及头实体/尾实体两种情况，我们设计对应的共 2*N 种 B 标签，再合并 I 和 O 标签，故每个 token 一共有 (2*N+2) 个标签，如下图所示。\n",
    "\n",
    "\n",
    "<div align=\"center\">\n",
    "<img src=\"https://ai-studio-static-online.cdn.bcebos.com/f984664777b241a9b43ef843c9b752f33906c8916bc146a69f7270b5858bee63\" width=\"500\" height=\"400\" alt=\"标注策略\" align=center />\n",
    "</div>\n",
    "\n",
    "### 评价方法\n",
    "\n",
    "对测试集上参评系统输出的SPO结果和人工标注的SPO结果进行精准匹配，采用F1值作为评价指标。注意，对于复杂O值类型的SPO，必须所有槽位都精确匹配才认为该SPO抽取正确。针对部分文本中存在实体别名的问题，使用百度知识图谱的别名词典来辅助评测。F1值的计算方式如下：\n",
    "\n",
    "F1 = (2 * P * R) / (P + R)，其中\n",
    "\n",
    "- P = 测试集所有句子中预测正确的SPO个数 / 测试集所有句子中预测出的SPO个数\n",
    "- R = 测试集所有句子中预测正确的SPO个数 / 测试集所有句子中人工标注的SPO个数"
   ]
  },
  {
   "cell_type": "markdown",
   "metadata": {
    "collapsed": false
   },
   "source": [
    "### Step1：构建模型\n",
    "\n",
    "该任务可以看作一个序列标注任务，所以基线模型采用的是ERNIE序列标注模型。\n",
    "\n",
    "**PaddleNLP提供了ERNIE预训练模型常用序列标注模型，可以通过指定模型名字完成一键加载。PaddleNLP为了方便用户处理数据，内置了对于各个预训练模型对应的Tokenizer，可以完成文本token化，转token ID，文本长度截断等操作。**\n",
    "\n",
    "文本数据处理直接调用tokenizer即可输出模型所需输入数据。\n",
    "\n"
   ]
  },
  {
   "cell_type": "code",
   "execution_count": null,
   "metadata": {
    "collapsed": false
   },
   "outputs": [
    {
     "name": "stderr",
     "output_type": "stream",
     "text": [
      "[2021-06-17 17:21:15,562] [    INFO] - Downloading https://paddlenlp.bj.bcebos.com/models/transformers/ernie/ernie_v1_chn_base.pdparams and saved to /home/aistudio/.paddlenlp/models/ernie-1.0\n",
      "[2021-06-17 17:21:15,565] [    INFO] - Downloading ernie_v1_chn_base.pdparams from https://paddlenlp.bj.bcebos.com/models/transformers/ernie/ernie_v1_chn_base.pdparams\n",
      "100%|██████████| 392507/392507 [00:11<00:00, 34289.93it/s]\n",
      "/opt/conda/envs/python35-paddle120-env/lib/python3.7/site-packages/paddle/fluid/dygraph/layers.py:1297: UserWarning: Skip loading for classifier.weight. classifier.weight is not found in the provided dict.\n",
      "  warnings.warn((\"Skip loading for {}. \".format(key) + str(err)))\n",
      "/opt/conda/envs/python35-paddle120-env/lib/python3.7/site-packages/paddle/fluid/dygraph/layers.py:1297: UserWarning: Skip loading for classifier.bias. classifier.bias is not found in the provided dict.\n",
      "  warnings.warn((\"Skip loading for {}. \".format(key) + str(err)))\n",
      "[2021-06-17 17:21:37,997] [    INFO] - Downloading vocab.txt from https://paddlenlp.bj.bcebos.com/models/transformers/ernie/vocab.txt\n",
      "100%|██████████| 90/90 [00:00<00:00, 2654.34it/s]\n"
     ]
    }
   ],
   "source": [
    "import os\n",
    "import json\n",
    "from paddlenlp.transformers import ErnieForTokenClassification, ErnieTokenizer\n",
    "\n",
    "label_map_path = os.path.join('data', \"predicate2id.json\")\n",
    "\n",
    "if not (os.path.exists(label_map_path) and os.path.isfile(label_map_path)):\n",
    "    sys.exit(\"{} dose not exists or is not a file.\".format(label_map_path))\n",
    "with open(label_map_path, 'r', encoding='utf8') as fp:\n",
    "    label_map = json.load(fp)\n",
    "    \n",
    "num_classes = (len(label_map.keys()) - 2) * 2 + 2\n",
    "\n",
    "# 补齐代码，理解TokenClassification接口含义，理解关系抽取标注体系和类别数由来\n",
    "# N个头实体，N个尾实体，一个 I 和一个 O 标签\n",
    "model = ErnieForTokenClassification.from_pretrained(\"ernie-1.0\", num_classes=(len(label_map) - 2) * 2 + 2)\n",
    "tokenizer = ErnieTokenizer.from_pretrained(\"ernie-1.0\")\n",
    "\n",
    "inputs = tokenizer(text=\"请输入测试样例\", max_seq_len=20)"
   ]
  },
  {
   "cell_type": "code",
   "execution_count": null,
   "metadata": {
    "collapsed": false
   },
   "outputs": [
    {
     "name": "stdout",
     "output_type": "stream",
     "text": [
      "{'input_ids': [1, 647, 789, 109, 558, 525, 314, 656, 2], 'token_type_ids': [0, 0, 0, 0, 0, 0, 0, 0, 0]}\n"
     ]
    }
   ],
   "source": [
    "print(inputs)"
   ]
  },
  {
   "cell_type": "markdown",
   "metadata": {
    "collapsed": false
   },
   "source": [
    "### Step2：加载并处理数据\n",
    "\n",
    "\n",
    "从比赛官网下载数据集，解压存放于data/目录下并重命名为train_data.json, dev_data.json, test_data.json.\n",
    "\n",
    "我们可以加载自定义数据集。通过继承[`paddle.io.Dataset`](https://www.paddlepaddle.org.cn/documentation/docs/zh/api/paddle/io/Dataset_cn.html#dataset)，自定义实现`__getitem__` 和 `__len__`两个方法。\n"
   ]
  },
  {
   "cell_type": "code",
   "execution_count": null,
   "metadata": {
    "collapsed": false
   },
   "outputs": [],
   "source": [
    "from typing import Optional, List, Union, Dict\n",
    "\n",
    "import numpy as np\n",
    "import paddle\n",
    "from tqdm import tqdm\n",
    "from paddlenlp.utils.log import logger\n",
    "\n",
    "from data_loader import parse_label, DataCollator, convert_example_to_feature\n",
    "from extract_chinese_and_punct import ChineseAndPunctuationExtractor\n",
    "\n",
    "\n",
    "class DuIEDataset(paddle.io.Dataset):\n",
    "    \"\"\"\n",
    "    Dataset of DuIE.\n",
    "    \"\"\"\n",
    "\n",
    "    def __init__(\n",
    "            self,\n",
    "            input_ids: List[Union[List[int], np.ndarray]],\n",
    "            seq_lens: List[Union[List[int], np.ndarray]],\n",
    "            tok_to_orig_start_index: List[Union[List[int], np.ndarray]],\n",
    "            tok_to_orig_end_index: List[Union[List[int], np.ndarray]],\n",
    "            labels: List[Union[List[int], np.ndarray, List[str], List[Dict]]]):\n",
    "        super(DuIEDataset, self).__init__()\n",
    "\n",
    "        self.input_ids = input_ids\n",
    "        self.seq_lens = seq_lens\n",
    "        self.tok_to_orig_start_index = tok_to_orig_start_index\n",
    "        self.tok_to_orig_end_index = tok_to_orig_end_index\n",
    "        self.labels = labels\n",
    "\n",
    "    def __len__(self):\n",
    "        if isinstance(self.input_ids, np.ndarray):\n",
    "            return self.input_ids.shape[0]\n",
    "        else:\n",
    "            return len(self.input_ids)\n",
    "\n",
    "    def __getitem__(self, item):\n",
    "        return {\n",
    "            \"input_ids\": np.array(self.input_ids[item]),\n",
    "            \"seq_lens\": np.array(self.seq_lens[item]),\n",
    "            \"tok_to_orig_start_index\":\n",
    "            np.array(self.tok_to_orig_start_index[item]),\n",
    "            \"tok_to_orig_end_index\": np.array(self.tok_to_orig_end_index[item]),\n",
    "            # If model inputs is generated in `collate_fn`, delete the data type casting.\n",
    "            \"labels\": np.array(\n",
    "                self.labels[item], dtype=np.float32),\n",
    "        }\n",
    "\n",
    "    @classmethod\n",
    "    def from_file(cls,\n",
    "                  file_path: Union[str, os.PathLike],\n",
    "                  tokenizer: ErnieTokenizer,\n",
    "                  max_length: Optional[int]=512,\n",
    "                  pad_to_max_length: Optional[bool]=None):\n",
    "        assert os.path.exists(file_path) and os.path.isfile(\n",
    "            file_path), f\"{file_path} dose not exists or is not a file.\"\n",
    "        label_map_path = os.path.join(\n",
    "            os.path.dirname(file_path), \"predicate2id.json\")\n",
    "        assert os.path.exists(label_map_path) and os.path.isfile(\n",
    "            label_map_path\n",
    "        ), f\"{label_map_path} dose not exists or is not a file.\"\n",
    "        with open(label_map_path, 'r', encoding='utf8') as fp:\n",
    "            label_map = json.load(fp)\n",
    "        chineseandpunctuationextractor = ChineseAndPunctuationExtractor()\n",
    "\n",
    "        input_ids, seq_lens, tok_to_orig_start_index, tok_to_orig_end_index, labels = (\n",
    "            [] for _ in range(5))\n",
    "        dataset_scale = sum(1 for line in open(file_path, 'r'))\n",
    "        logger.info(\"Preprocessing data, loaded from %s\" % file_path)\n",
    "        with open(file_path, \"r\", encoding=\"utf-8\") as fp:\n",
    "            lines = fp.readlines()\n",
    "            for line in tqdm(lines):\n",
    "                example = json.loads(line)\n",
    "                input_feature = convert_example_to_feature(\n",
    "                    example, tokenizer, chineseandpunctuationextractor,\n",
    "                    label_map, max_length, pad_to_max_length)\n",
    "                input_ids.append(input_feature.input_ids)\n",
    "                seq_lens.append(input_feature.seq_len)\n",
    "                tok_to_orig_start_index.append(\n",
    "                    input_feature.tok_to_orig_start_index)\n",
    "                tok_to_orig_end_index.append(\n",
    "                    input_feature.tok_to_orig_end_index)\n",
    "                labels.append(input_feature.labels)\n",
    "\n",
    "        return cls(input_ids, seq_lens, tok_to_orig_start_index,\n",
    "                   tok_to_orig_end_index, labels)\n"
   ]
  },
  {
   "cell_type": "code",
   "execution_count": null,
   "metadata": {
    "collapsed": false
   },
   "outputs": [
    {
     "name": "stderr",
     "output_type": "stream",
     "text": [
      "[2021-06-17 17:21:44,813] [    INFO] - Preprocessing data, loaded from data/train_data.json\n",
      "100%|██████████| 10010/10010 [00:18<00:00, 538.93it/s]\n",
      "[2021-06-17 17:22:03,416] [    INFO] - Preprocessing data, loaded from data/dev_data.json\n",
      "100%|██████████| 1000/1000 [00:01<00:00, 544.05it/s]\n"
     ]
    }
   ],
   "source": [
    "data_path = 'data'\n",
    "batch_size = 32\n",
    "max_seq_length = 128\n",
    "\n",
    "train_file_path = os.path.join(data_path, 'train_data.json')\n",
    "train_dataset = DuIEDataset.from_file(\n",
    "    train_file_path, tokenizer, max_seq_length, True)\n",
    "train_batch_sampler = paddle.io.BatchSampler(\n",
    "    train_dataset, batch_size=batch_size, shuffle=True, drop_last=True)\n",
    "collator = DataCollator()\n",
    "\n",
    "# train loader\n",
    "train_data_loader = paddle.io.DataLoader(\n",
    "    dataset=train_dataset,\n",
    "    batch_sampler=train_batch_sampler,\n",
    "    collate_fn=collator)\n",
    "\n",
    "eval_file_path = os.path.join(data_path, 'dev_data.json')\n",
    "test_dataset = DuIEDataset.from_file(\n",
    "    eval_file_path, tokenizer, max_seq_length, True)\n",
    "test_batch_sampler = paddle.io.BatchSampler(\n",
    "    test_dataset, batch_size=batch_size, shuffle=False, drop_last=True)\n",
    "#test loader\n",
    "test_data_loader = paddle.io.DataLoader(\n",
    "    dataset=test_dataset,\n",
    "    batch_sampler=test_batch_sampler,\n",
    "    collate_fn=collator)"
   ]
  },
  {
   "cell_type": "code",
   "execution_count": null,
   "metadata": {
    "collapsed": false
   },
   "outputs": [
    {
     "name": "stdout",
     "output_type": "stream",
     "text": [
      "10010\n"
     ]
    }
   ],
   "source": [
    "print(len(train_dataset))"
   ]
  },
  {
   "cell_type": "code",
   "execution_count": null,
   "metadata": {
    "collapsed": false
   },
   "outputs": [
    {
     "name": "stdout",
     "output_type": "stream",
     "text": [
      "{'input_ids': array([    1,  1167,   761,  2075,  1396,   231,   112,    21,   106,\n",
      "         495,  2752,   367,    30,    44,   266,  5706, 12049,    75,\n",
      "        1042,    86,   188,    20,   165,    40, 12046,   419,     8,\n",
      "        2898,  3572,    54,  1139,  2633,  1243,   762,     5,   622,\n",
      "          85,  1139,   204,  2133,  1641,   188,    20,   555,    69,\n",
      "          12,     4,   340,   313,    45,   787,   787,    16,    45,\n",
      "         772,    17,  1186,  2040,    39,   225,   509,   204,    62,\n",
      "         104,   259,   171,  1625,     4,   196,    13,   188,    20,\n",
      "         243,   239,    37,   225,   509,  1339,   640,   487,   944,\n",
      "         241,     5,  1443,   345,    36,    98,     4,   120,    28,\n",
      "          20,   137,   106,   495,  2752,   367,   678,   118,     4,\n",
      "         137,   280,    51,    37,  1139,   204,  2133,     5,   182,\n",
      "         617,   345,    45,    16,   354,   394,  1167,   761,  2075,\n",
      "         508,    78,   853,    77,   139,   704,   347,   152,  1140,\n",
      "          45,     2]), 'seq_lens': array(126), 'tok_to_orig_start_index': array([ -1,   0,   1,   2,   3,   4,   5,   6,   7,   8,   9,  10,  11,\n",
      "        13,  14,  15,  16,  18,  19,  20,  21,  22,  23,  24,  25,  26,\n",
      "        27,  28,  29,  30,  31,  32,  33,  35,  36,  37,  38,  39,  40,\n",
      "        41,  42,  43,  44,  45,  46,  47,  48,  49,  50,  51,  52,  53,\n",
      "        54,  55,  56,  57,  58,  59,  60,  61,  62,  63,  64,  65,  66,\n",
      "        67,  68,  69,  70,  71,  72,  73,  74,  75,  76,  77,  78,  79,\n",
      "        80,  81,  82,  83,  84,  85,  86,  87,  88,  89,  90,  91,  92,\n",
      "        93,  94,  95,  96,  97,  98,  99, 100, 101, 102, 103, 104, 105,\n",
      "       106, 107, 108, 109, 110, 111, 112, 113, 114, 115, 117, 118, 119,\n",
      "       120, 121, 122, 124, 125, 126, 127, 128, 129, 130,  -1]), 'tok_to_orig_end_index': array([ -1,   0,   1,   2,   3,   4,   5,   6,   7,   8,   9,  10,  11,\n",
      "        13,  14,  15,  16,  18,  19,  20,  21,  22,  23,  24,  25,  26,\n",
      "        27,  28,  29,  30,  31,  32,  34,  35,  36,  37,  38,  39,  40,\n",
      "        41,  42,  43,  44,  45,  46,  47,  48,  49,  50,  51,  52,  53,\n",
      "        54,  55,  56,  57,  58,  59,  60,  61,  62,  63,  64,  65,  66,\n",
      "        67,  68,  69,  70,  71,  72,  73,  74,  75,  76,  77,  78,  79,\n",
      "        80,  81,  82,  83,  84,  85,  86,  87,  88,  89,  90,  91,  92,\n",
      "        93,  94,  95,  96,  97,  98,  99, 100, 101, 102, 103, 104, 105,\n",
      "       106, 107, 108, 109, 110, 111, 112, 113, 114, 115, 117, 118, 119,\n",
      "       120, 121, 123, 124, 125, 126, 127, 128, 129, 130,  -1]), 'labels': array([[1., 0., 0., ..., 0., 0., 0.],\n",
      "       [1., 0., 0., ..., 0., 0., 0.],\n",
      "       [1., 0., 0., ..., 0., 0., 0.],\n",
      "       ...,\n",
      "       [1., 0., 0., ..., 0., 0., 0.],\n",
      "       [1., 0., 0., ..., 0., 0., 0.],\n",
      "       [1., 0., 0., ..., 0., 0., 0.]], dtype=float32)}\n"
     ]
    }
   ],
   "source": [
    "print(train_dataset[0])"
   ]
  },
  {
   "cell_type": "code",
   "execution_count": null,
   "metadata": {
    "collapsed": false
   },
   "outputs": [
    {
     "name": "stdout",
     "output_type": "stream",
     "text": [
      "1000\n"
     ]
    }
   ],
   "source": [
    "print(len(test_dataset))"
   ]
  },
  {
   "cell_type": "markdown",
   "metadata": {
    "collapsed": false
   },
   "source": [
    "### Step3：定义损失函数和优化器，开始训练\n",
    "\n",
    "我们选择均方误差作为损失函数，使用[`paddle.optimizer.AdamW`](https://www.paddlepaddle.org.cn/documentation/docs/zh/api/paddle/optimizer/adamw/AdamW_cn.html#adamw)作为优化器。\n",
    "\n",
    "\n",
    "\n",
    "在训练过程中，模型保存在当前目录checkpoints文件夹下。同时在训练的同时使用官方评测脚本进行评估，输出P/R/F1指标。\n",
    "在验证集上F1可以达到69.42。\n"
   ]
  },
  {
   "cell_type": "code",
   "execution_count": null,
   "metadata": {
    "collapsed": false
   },
   "outputs": [],
   "source": [
    "import paddle.nn as nn\n",
    "\n",
    "class BCELossForDuIE(nn.Layer):\n",
    "    def __init__(self, ):\n",
    "        super(BCELossForDuIE, self).__init__()\n",
    "        self.criterion = nn.BCEWithLogitsLoss(reduction='none')\n",
    "\n",
    "    def forward(self, logits, labels, mask):\n",
    "        loss = self.criterion(logits, labels)\n",
    "        mask = paddle.cast(mask, 'float32')\n",
    "        loss = loss * mask.unsqueeze(-1)\n",
    "        loss = paddle.sum(loss.mean(axis=2), axis=1) / paddle.sum(mask, axis=1)\n",
    "        loss = loss.mean()\n",
    "        return loss"
   ]
  },
  {
   "cell_type": "code",
   "execution_count": null,
   "metadata": {
    "collapsed": false
   },
   "outputs": [],
   "source": [
    "from utils import write_prediction_results, get_precision_recall_f1, decoding\n",
    "\n",
    "@paddle.no_grad()\n",
    "def evaluate(model, criterion, data_loader, file_path, mode):\n",
    "    \"\"\"\n",
    "    mode eval:\n",
    "    eval on development set and compute P/R/F1, called between training.\n",
    "    mode predict:\n",
    "    eval on development / test set, then write predictions to \\\n",
    "        predict_test.json and predict_test.json.zip \\\n",
    "        under /home/aistudio/relation_extraction/data dir for later submission or evaluation.\n",
    "    \"\"\"\n",
    "    example_all = []\n",
    "    with open(file_path, \"r\", encoding=\"utf-8\") as fp:\n",
    "        for line in fp:\n",
    "            example_all.append(json.loads(line))\n",
    "    id2spo_path = os.path.join(os.path.dirname(file_path), \"id2spo.json\")\n",
    "    with open(id2spo_path, 'r', encoding='utf8') as fp:\n",
    "        id2spo = json.load(fp)\n",
    "\n",
    "    model.eval()\n",
    "    loss_all = 0\n",
    "    eval_steps = 0\n",
    "    formatted_outputs = []\n",
    "    current_idx = 0\n",
    "    for batch in tqdm(data_loader, total=len(data_loader)):\n",
    "        eval_steps += 1\n",
    "        input_ids, seq_len, tok_to_orig_start_index, tok_to_orig_end_index, labels = batch\n",
    "        logits = model(input_ids=input_ids)\n",
    "        mask = (input_ids != 0).logical_and((input_ids != 1)).logical_and((input_ids != 2))\n",
    "        loss = criterion(logits, labels, mask)\n",
    "        loss_all += loss.numpy().item()\n",
    "        probs = F.sigmoid(logits)\n",
    "        logits_batch = probs.numpy()\n",
    "        seq_len_batch = seq_len.numpy()\n",
    "        tok_to_orig_start_index_batch = tok_to_orig_start_index.numpy()\n",
    "        tok_to_orig_end_index_batch = tok_to_orig_end_index.numpy()\n",
    "        formatted_outputs.extend(decoding(example_all[current_idx: current_idx+len(logits)],\n",
    "                                          id2spo,\n",
    "                                          logits_batch,\n",
    "                                          seq_len_batch,\n",
    "                                          tok_to_orig_start_index_batch,\n",
    "                                          tok_to_orig_end_index_batch))\n",
    "        current_idx = current_idx+len(logits)\n",
    "    loss_avg = loss_all / eval_steps\n",
    "    print(\"eval loss: %f\" % (loss_avg))\n",
    "\n",
    "    if mode == \"predict\":\n",
    "        predict_file_path = os.path.join(\"/home/aistudio/relation_extraction/data\", 'predictions.json')\n",
    "    else:\n",
    "        predict_file_path = os.path.join(\"/home/aistudio/relation_extraction/data\", 'predict_eval.json')\n",
    "\n",
    "    predict_zipfile_path = write_prediction_results(formatted_outputs,\n",
    "                                                    predict_file_path)\n",
    "\n",
    "    if mode == \"eval\":\n",
    "        precision, recall, f1 = get_precision_recall_f1(file_path,\n",
    "                                                        predict_zipfile_path)\n",
    "        os.system('rm {} {}'.format(predict_file_path, predict_zipfile_path))\n",
    "        return precision, recall, f1\n",
    "    elif mode != \"predict\":\n",
    "        raise Exception(\"wrong mode for eval func\")"
   ]
  },
  {
   "cell_type": "code",
   "execution_count": null,
   "metadata": {
    "collapsed": false
   },
   "outputs": [],
   "source": [
    "from paddlenlp.transformers import LinearDecayWithWarmup\n",
    "\n",
    "learning_rate = 2e-5\n",
    "num_train_epochs = 5\n",
    "warmup_ratio = 0.06\n",
    "\n",
    "criterion = BCELossForDuIE()\n",
    "# Defines learning rate strategy.\n",
    "steps_by_epoch = len(train_data_loader)\n",
    "num_training_steps = steps_by_epoch * num_train_epochs\n",
    "lr_scheduler = LinearDecayWithWarmup(learning_rate, num_training_steps, warmup_ratio)\n",
    "optimizer = paddle.optimizer.AdamW(\n",
    "    learning_rate=lr_scheduler,\n",
    "    parameters=model.parameters(),\n",
    "    apply_decay_param_fun=lambda x: x in [\n",
    "        p.name for n, p in model.named_parameters()\n",
    "        if not any(nd in n for nd in [\"bias\", \"norm\"])])"
   ]
  },
  {
   "cell_type": "code",
   "execution_count": null,
   "metadata": {
    "collapsed": false
   },
   "outputs": [],
   "source": [
    "# 模型参数保存路径\n",
    "!mkdir checkpoints"
   ]
  },
  {
   "cell_type": "markdown",
   "metadata": {
    "collapsed": false
   },
   "source": [
    "### Step4：提交预测结果\n",
    "\n",
    "加载训练保存的模型加载后进行预测。\n",
    "\n",
    "**NOTE:** 注意设置用于预测的模型参数路径。"
   ]
  },
  {
   "cell_type": "code",
   "execution_count": null,
   "metadata": {
    "collapsed": false
   },
   "outputs": [
    {
     "name": "stdout",
     "output_type": "stream",
     "text": [
      "\n",
      "=====start training of 0 epochs=====\n",
      "epoch: 0 / 5, steps: 0 / 312, loss: 0.740915, speed: 76.45 step/s\n",
      "epoch: 0 / 5, steps: 50 / 312, loss: 0.533208, speed: 2.17 step/s\n",
      "epoch: 0 / 5, steps: 100 / 312, loss: 0.214537, speed: 2.25 step/s\n",
      "epoch: 0 / 5, steps: 150 / 312, loss: 0.140469, speed: 2.27 step/s\n",
      "epoch: 0 / 5, steps: 200 / 312, loss: 0.102369, speed: 2.26 step/s\n",
      "epoch: 0 / 5, steps: 250 / 312, loss: 0.080891, speed: 2.17 step/s\n",
      "epoch: 0 / 5, steps: 300 / 312, loss: 0.065723, speed: 2.27 step/s\n",
      "epoch time footprint: 0 hour 2 min 20 sec\n",
      "\n",
      "=====start training of 1 epochs=====\n",
      "epoch: 1 / 5, steps: 38 / 312, loss: 0.054835, speed: 2.26 step/s\n",
      "epoch: 1 / 5, steps: 88 / 312, loss: 0.047586, speed: 2.26 step/s\n",
      "epoch: 1 / 5, steps: 138 / 312, loss: 0.041222, speed: 2.23 step/s\n",
      "epoch: 1 / 5, steps: 188 / 312, loss: 0.039588, speed: 2.24 step/s\n",
      "epoch: 1 / 5, steps: 238 / 312, loss: 0.033662, speed: 2.27 step/s\n",
      "epoch: 1 / 5, steps: 288 / 312, loss: 0.032704, speed: 2.25 step/s\n",
      "epoch time footprint: 0 hour 2 min 19 sec\n",
      "\n",
      "=====start training of 2 epochs=====\n",
      "epoch: 2 / 5, steps: 26 / 312, loss: 0.031023, speed: 2.18 step/s\n",
      "epoch: 2 / 5, steps: 76 / 312, loss: 0.029331, speed: 2.26 step/s\n",
      "epoch: 2 / 5, steps: 126 / 312, loss: 0.026065, speed: 2.25 step/s\n",
      "epoch: 2 / 5, steps: 176 / 312, loss: 0.025933, speed: 2.20 step/s\n",
      "epoch: 2 / 5, steps: 226 / 312, loss: 0.023926, speed: 2.25 step/s\n",
      "epoch: 2 / 5, steps: 276 / 312, loss: 0.022052, speed: 2.26 step/s\n",
      "epoch time footprint: 0 hour 2 min 19 sec\n",
      "\n",
      "=====start training of 3 epochs=====\n",
      "epoch: 3 / 5, steps: 14 / 312, loss: 0.020765, speed: 2.24 step/s\n",
      "epoch: 3 / 5, steps: 64 / 312, loss: 0.019856, speed: 2.21 step/s\n",
      "epoch: 3 / 5, steps: 114 / 312, loss: 0.018121, speed: 2.27 step/s\n",
      "epoch: 3 / 5, steps: 164 / 312, loss: 0.019125, speed: 2.25 step/s\n",
      "epoch: 3 / 5, steps: 214 / 312, loss: 0.019090, speed: 2.21 step/s\n",
      "epoch: 3 / 5, steps: 264 / 312, loss: 0.016970, speed: 2.19 step/s\n",
      "epoch time footprint: 0 hour 2 min 19 sec\n",
      "\n",
      "=====start training of 4 epochs=====\n",
      "epoch: 4 / 5, steps: 2 / 312, loss: 0.017075, speed: 2.26 step/s\n",
      "epoch: 4 / 5, steps: 52 / 312, loss: 0.017618, speed: 2.23 step/s\n",
      "epoch: 4 / 5, steps: 102 / 312, loss: 0.017426, speed: 2.15 step/s\n",
      "epoch: 4 / 5, steps: 152 / 312, loss: 0.014971, speed: 2.24 step/s\n",
      "epoch: 4 / 5, steps: 202 / 312, loss: 0.016526, speed: 2.25 step/s\n",
      "epoch: 4 / 5, steps: 252 / 312, loss: 0.016432, speed: 2.17 step/s\n",
      "epoch: 4 / 5, steps: 302 / 312, loss: 0.016565, speed: 2.24 step/s\n",
      "epoch time footprint: 0 hour 2 min 20 sec\n",
      "\n",
      "=====start evaluating last ckpt of 1560 steps=====\n"
     ]
    },
    {
     "name": "stderr",
     "output_type": "stream",
     "text": [
      "100%|██████████| 31/31 [00:05<00:00,  5.69it/s]\n"
     ]
    },
    {
     "name": "stdout",
     "output_type": "stream",
     "text": [
      "eval loss: 0.015497\n",
      "precision: 0.00\t recall: 0.00\t f1: 0.00\t\n",
      "\n",
      "=====training complete=====\n"
     ]
    }
   ],
   "source": [
    "import time\n",
    "import paddle.nn.functional as F\n",
    "\n",
    "# Starts training.\n",
    "global_step = 0\n",
    "logging_steps = 50\n",
    "save_steps = 10000\n",
    "num_train_epochs = 5\n",
    "output_dir = 'checkpoints'\n",
    "tic_train = time.time()\n",
    "model.train()\n",
    "for epoch in range(num_train_epochs):\n",
    "    print(\"\\n=====start training of %d epochs=====\" % epoch)\n",
    "    tic_epoch = time.time()\n",
    "    for step, batch in enumerate(train_data_loader):\n",
    "        input_ids, seq_lens, tok_to_orig_start_index, tok_to_orig_end_index, labels = batch\n",
    "        logits = model(input_ids=input_ids)\n",
    "        mask = (input_ids != 0).logical_and((input_ids != 1)).logical_and(\n",
    "            (input_ids != 2))\n",
    "        loss = criterion(logits, labels, mask)\n",
    "        loss.backward()\n",
    "        optimizer.step()\n",
    "        lr_scheduler.step()\n",
    "        optimizer.clear_gradients()\n",
    "        loss_item = loss.numpy().item()\n",
    "\n",
    "        if global_step % logging_steps == 0:\n",
    "            print(\n",
    "                \"epoch: %d / %d, steps: %d / %d, loss: %f, speed: %.2f step/s\"\n",
    "                % (epoch, num_train_epochs, step, steps_by_epoch,\n",
    "                    loss_item, logging_steps / (time.time() - tic_train)))\n",
    "            tic_train = time.time()\n",
    "\n",
    "        if global_step % save_steps == 0 and global_step != 0:\n",
    "            print(\"\\n=====start evaluating ckpt of %d steps=====\" %\n",
    "                    global_step)\n",
    "            precision, recall, f1 = evaluate(\n",
    "                model, criterion, test_data_loader, eval_file_path, \"eval\")\n",
    "            print(\"precision: %.2f\\t recall: %.2f\\t f1: %.2f\\t\" %\n",
    "                    (100 * precision, 100 * recall, 100 * f1))\n",
    "            print(\"saving checkpoing model_%d.pdparams to %s \" %\n",
    "                    (global_step, output_dir))\n",
    "            paddle.save(model.state_dict(),\n",
    "                        os.path.join(output_dir, \n",
    "                                        \"model_%d.pdparams\" % global_step))\n",
    "            model.train()\n",
    "\n",
    "        global_step += 1\n",
    "    tic_epoch = time.time() - tic_epoch\n",
    "    print(\"epoch time footprint: %d hour %d min %d sec\" %\n",
    "            (tic_epoch // 3600, (tic_epoch % 3600) // 60, tic_epoch % 60))\n",
    "\n",
    "# Does final evaluation.\n",
    "print(\"\\n=====start evaluating last ckpt of %d steps=====\" %\n",
    "        global_step)\n",
    "precision, recall, f1 = evaluate(model, criterion, test_data_loader,\n",
    "                                    eval_file_path, \"eval\")\n",
    "print(\"precision: %.2f\\t recall: %.2f\\t f1: %.2f\\t\" %\n",
    "        (100 * precision, 100 * recall, 100 * f1))\n",
    "paddle.save(model.state_dict(),\n",
    "            os.path.join(output_dir,\n",
    "                            \"model_%d.pdparams\" % global_step))\n",
    "print(\"\\n=====training complete=====\")"
   ]
  },
  {
   "cell_type": "code",
   "execution_count": null,
   "metadata": {
    "collapsed": false
   },
   "outputs": [
    {
     "name": "stdout",
     "output_type": "stream",
     "text": [
      "+ export CUDA_VISIBLE_DEVICES=0\n",
      "+ CUDA_VISIBLE_DEVICES=0\n",
      "+ export BATCH_SIZE=8\n",
      "+ BATCH_SIZE=8\n",
      "+ export CKPT=./checkpoints/model_624.pdparams\n",
      "+ CKPT=./checkpoints/model_624.pdparams\n",
      "+ export DATASET_FILE=./data/test_data.json\n",
      "+ DATASET_FILE=./data/test_data.json\n",
      "+ python run_duie.py --do_predict --init_checkpoint ./checkpoints/model_624.pdparams --predict_data_file ./data/test_data.json --max_seq_length 512 --batch_size 8\n",
      "[2021-06-18 09:12:16,373] [    INFO] - Already cached /home/aistudio/.paddlenlp/models/ernie-1.0/ernie_v1_chn_base.pdparams\n",
      "W0618 09:12:16.374666 21253 device_context.cc:404] Please NOTE: device: 0, GPU Compute Capability: 7.0, Driver API Version: 10.1, Runtime API Version: 10.1\n",
      "W0618 09:12:16.378816 21253 device_context.cc:422] device: 0, cuDNN Version: 7.6.\n",
      "/opt/conda/envs/python35-paddle120-env/lib/python3.7/site-packages/paddle/fluid/dygraph/layers.py:1297: UserWarning: Skip loading for classifier.weight. classifier.weight is not found in the provided dict.\n",
      "  warnings.warn((\"Skip loading for {}. \".format(key) + str(err)))\n",
      "/opt/conda/envs/python35-paddle120-env/lib/python3.7/site-packages/paddle/fluid/dygraph/layers.py:1297: UserWarning: Skip loading for classifier.bias. classifier.bias is not found in the provided dict.\n",
      "  warnings.warn((\"Skip loading for {}. \".format(key) + str(err)))\n",
      "[2021-06-18 09:12:28,217] [    INFO] - Found /home/aistudio/.paddlenlp/models/ernie-1.0/vocab.txt\n",
      "[2021-06-18 09:12:28,235] [    INFO] - Preprocessing data, loaded from ./data/test_data.json\n",
      "100%|██████████████████████████████████████| 1000/1000 [00:04<00:00, 231.45it/s]\n",
      "\n",
      "=====start predicting=====\n",
      "100%|█████████████████████████████████████████| 125/125 [00:28<00:00,  4.45it/s]\n",
      "eval loss: 0.032556\n",
      "=====predicting complete=====\n"
     ]
    }
   ],
   "source": [
    "!bash predict.sh"
   ]
  },
  {
   "cell_type": "markdown",
   "metadata": {
    "collapsed": false
   },
   "source": [
    "## 比赛结果：\n",
    "![](https://ai-studio-static-online.cdn.bcebos.com/fc517ae24a914e739bebfcf63cbd2bfd636e77f505744997aa476c3d0a0f88ac)\n",
    "\n",
    "\n",
    "## github：\n",
    "![](https://ai-studio-static-online.cdn.bcebos.com/b41b1a9d42c44a2db7d2cbcdaee0801fe7edce81a1f94223a5985f26ed72b2ca)\n",
    "\n",
    "[](https://github.com/soufal/PaddleNLP_my/blob/main/%E4%BF%A1%E6%81%AF%E6%8A%BD%E5%8F%96.ipynb)"
   ]
  },
  {
   "cell_type": "code",
   "execution_count": null,
   "metadata": {
    "collapsed": false
   },
   "outputs": [],
   "source": []
  },
  {
   "cell_type": "markdown",
   "metadata": {
    "collapsed": false
   },
   "source": [
    "预测结果会被保存在data/predictions.json，data/predictions.json.zip，其格式与原数据集文件一致。\n",
    "\n",
    "之后可以使用官方评估脚本评估训练模型在dev_data.json上的效果。如：\n",
    "\n",
    "```shell\n",
    "python re_official_evaluation.py --golden_file=dev_data.json  --predict_file=predicitons.json.zip [--alias_file alias_dict]\n",
    "```\n",
    "输出指标为Precision, Recall 和 F1，Alias file包含了合法的实体别名，最终评测的时候会使用，这里不予提供。\n",
    "\n",
    "之后在test_data.json上预测，然后预测结果（.zip文件）至[千言评测页面](https://aistudio.baidu.com/aistudio/competition/detail/46)。\n",
    "\n",
    "\n",
    "\n"
   ]
  },
  {
   "cell_type": "code",
   "execution_count": null,
   "metadata": {
    "collapsed": false
   },
   "outputs": [
    {
     "name": "stdout",
     "output_type": "stream",
     "text": [
      "checkpoints\t\t      predict.sh\t\t run_duie.py\r\n",
      "data\t\t\t      __pycache__\t\t train.sh\r\n",
      "data_loader.py\t\t      README.md\t\t\t utils.py\r\n",
      "extract_chinese_and_punct.py  re_official_evaluation.py\r\n"
     ]
    }
   ],
   "source": [
    "!ls"
   ]
  },
  {
   "cell_type": "markdown",
   "metadata": {
    "collapsed": false
   },
   "source": [
    "\n",
    "## Tricks\n",
    "\n",
    "### 尝试更多的预训练模型\n",
    "\n",
    "基线采用的预训练模型为ERNIE，PaddleNLP提供了丰富的预训练模型，如BERT，RoBERTa，Electra，XLNet等\n",
    "参考[预训练模型文档](https://paddlenlp.readthedocs.io/zh/latest/model_zoo/transformers.html)\n",
    "\n",
    "如可以选择RoBERTa large中文模型优化模型效果，只需更换模型和tokenizer即可无缝衔接。"
   ]
  },
  {
   "cell_type": "code",
   "execution_count": null,
   "metadata": {
    "collapsed": false
   },
   "outputs": [
    {
     "name": "stderr",
     "output_type": "stream",
     "text": [
      "[2021-06-18 09:17:40,371] [    INFO] - Downloading https://paddlenlp.bj.bcebos.com/models/transformers/roberta_large/roberta_chn_large.pdparams and saved to /home/aistudio/.paddlenlp/models/roberta-wwm-ext-large\n",
      "[2021-06-18 09:17:40,374] [    INFO] - Downloading roberta_chn_large.pdparams from https://paddlenlp.bj.bcebos.com/models/transformers/roberta_large/roberta_chn_large.pdparams\n",
      "100%|██████████| 1271615/1271615 [00:41<00:00, 30899.73it/s]\n",
      "/opt/conda/envs/python35-paddle120-env/lib/python3.7/site-packages/paddle/fluid/dygraph/layers.py:1297: UserWarning: Skip loading for classifier.weight. classifier.weight is not found in the provided dict.\n",
      "  warnings.warn((\"Skip loading for {}. \".format(key) + str(err)))\n",
      "/opt/conda/envs/python35-paddle120-env/lib/python3.7/site-packages/paddle/fluid/dygraph/layers.py:1297: UserWarning: Skip loading for classifier.bias. classifier.bias is not found in the provided dict.\n",
      "  warnings.warn((\"Skip loading for {}. \".format(key) + str(err)))\n",
      "[2021-06-18 09:18:28,611] [    INFO] - Downloading vocab.txt from https://paddlenlp.bj.bcebos.com/models/transformers/roberta_large/vocab.txt\n",
      "100%|██████████| 107/107 [00:00<00:00, 4649.86it/s]\n"
     ]
    }
   ],
   "source": [
    "from paddlenlp.transformers import RobertaForTokenClassification, RobertaTokenizer\n",
    "\n",
    "model = RobertaForTokenClassification.from_pretrained(\n",
    "    \"roberta-wwm-ext-large\",\n",
    "    num_classes=(len(label_map) - 2) * 2 + 2)\n",
    "tokenizer = RobertaTokenizer.from_pretrained(\"roberta-wwm-ext-large\")"
   ]
  },
  {
   "cell_type": "code",
   "execution_count": null,
   "metadata": {
    "collapsed": false
   },
   "outputs": [],
   "source": [
    "\r\n",
    "\r\n",
    "inputs = tokenizer(text=\"请输入测试样例\", max_seq_len=20)"
   ]
  },
  {
   "cell_type": "code",
   "execution_count": null,
   "metadata": {
    "collapsed": false
   },
   "outputs": [
    {
     "name": "stdout",
     "output_type": "stream",
     "text": [
      "{'input_ids': [101, 6435, 6783, 1057, 3844, 6407, 3416, 891, 102], 'token_type_ids': [0, 0, 0, 0, 0, 0, 0, 0, 0]}\n"
     ]
    }
   ],
   "source": [
    "print(inputs)"
   ]
  },
  {
   "cell_type": "code",
   "execution_count": null,
   "metadata": {
    "collapsed": false
   },
   "outputs": [],
   "source": [
    "from typing import Optional, List, Union, Dict\r\n",
    "\r\n",
    "import numpy as np\r\n",
    "import paddle\r\n",
    "from tqdm import tqdm\r\n",
    "from paddlenlp.utils.log import logger\r\n",
    "\r\n",
    "from data_loader import parse_label, DataCollator, convert_example_to_feature\r\n",
    "from extract_chinese_and_punct import ChineseAndPunctuationExtractor\r\n",
    "\r\n",
    "\r\n",
    "class DuIEDataset(paddle.io.Dataset):\r\n",
    "    \"\"\"\r\n",
    "    Dataset of DuIE.\r\n",
    "    \"\"\"\r\n",
    "\r\n",
    "    def __init__(\r\n",
    "            self,\r\n",
    "            input_ids: List[Union[List[int], np.ndarray]],\r\n",
    "            seq_lens: List[Union[List[int], np.ndarray]],\r\n",
    "            tok_to_orig_start_index: List[Union[List[int], np.ndarray]],\r\n",
    "            tok_to_orig_end_index: List[Union[List[int], np.ndarray]],\r\n",
    "            labels: List[Union[List[int], np.ndarray, List[str], List[Dict]]]):\r\n",
    "        super(DuIEDataset, self).__init__()\r\n",
    "\r\n",
    "        self.input_ids = input_ids\r\n",
    "        self.seq_lens = seq_lens\r\n",
    "        self.tok_to_orig_start_index = tok_to_orig_start_index\r\n",
    "        self.tok_to_orig_end_index = tok_to_orig_end_index\r\n",
    "        self.labels = labels\r\n",
    "\r\n",
    "    def __len__(self):\r\n",
    "        if isinstance(self.input_ids, np.ndarray):\r\n",
    "            return self.input_ids.shape[0]\r\n",
    "        else:\r\n",
    "            return len(self.input_ids)\r\n",
    "\r\n",
    "    def __getitem__(self, item):\r\n",
    "        return {\r\n",
    "            \"input_ids\": np.array(self.input_ids[item]),\r\n",
    "            \"seq_lens\": np.array(self.seq_lens[item]),\r\n",
    "            \"tok_to_orig_start_index\":\r\n",
    "            np.array(self.tok_to_orig_start_index[item]),\r\n",
    "            \"tok_to_orig_end_index\": np.array(self.tok_to_orig_end_index[item]),\r\n",
    "            # If model inputs is generated in `collate_fn`, delete the data type casting.\r\n",
    "            \"labels\": np.array(\r\n",
    "                self.labels[item], dtype=np.float32),\r\n",
    "        }\r\n",
    "\r\n",
    "    @classmethod\r\n",
    "    def from_file(cls,\r\n",
    "                  file_path: Union[str, os.PathLike],\r\n",
    "                  tokenizer: ErnieTokenizer,\r\n",
    "                  max_length: Optional[int]=512,\r\n",
    "                  pad_to_max_length: Optional[bool]=None):\r\n",
    "        assert os.path.exists(file_path) and os.path.isfile(\r\n",
    "            file_path), f\"{file_path} dose not exists or is not a file.\"\r\n",
    "        label_map_path = os.path.join(\r\n",
    "            os.path.dirname(file_path), \"predicate2id.json\")\r\n",
    "        assert os.path.exists(label_map_path) and os.path.isfile(\r\n",
    "            label_map_path\r\n",
    "        ), f\"{label_map_path} dose not exists or is not a file.\"\r\n",
    "        with open(label_map_path, 'r', encoding='utf8') as fp:\r\n",
    "            label_map = json.load(fp)\r\n",
    "        chineseandpunctuationextractor = ChineseAndPunctuationExtractor()\r\n",
    "\r\n",
    "        input_ids, seq_lens, tok_to_orig_start_index, tok_to_orig_end_index, labels = (\r\n",
    "            [] for _ in range(5))\r\n",
    "        dataset_scale = sum(1 for line in open(file_path, 'r'))\r\n",
    "        logger.info(\"Preprocessing data, loaded from %s\" % file_path)\r\n",
    "        with open(file_path, \"r\", encoding=\"utf-8\") as fp:\r\n",
    "            lines = fp.readlines()\r\n",
    "            for line in tqdm(lines):\r\n",
    "                example = json.loads(line)\r\n",
    "                input_feature = convert_example_to_feature(\r\n",
    "                    example, tokenizer, chineseandpunctuationextractor,\r\n",
    "                    label_map, max_length, pad_to_max_length)\r\n",
    "                input_ids.append(input_feature.input_ids)\r\n",
    "                seq_lens.append(input_feature.seq_len)\r\n",
    "                tok_to_orig_start_index.append(\r\n",
    "                    input_feature.tok_to_orig_start_index)\r\n",
    "                tok_to_orig_end_index.append(\r\n",
    "                    input_feature.tok_to_orig_end_index)\r\n",
    "                labels.append(input_feature.labels)\r\n",
    "\r\n",
    "        return cls(input_ids, seq_lens, tok_to_orig_start_index,\r\n",
    "                   tok_to_orig_end_index, labels)"
   ]
  },
  {
   "cell_type": "code",
   "execution_count": null,
   "metadata": {
    "collapsed": false
   },
   "outputs": [
    {
     "name": "stderr",
     "output_type": "stream",
     "text": [
      "[2021-06-18 09:20:05,017] [    INFO] - Preprocessing data, loaded from data/train_data.json\n",
      "100%|██████████| 10010/10010 [00:18<00:00, 539.53it/s]\n",
      "[2021-06-18 09:20:23,599] [    INFO] - Preprocessing data, loaded from data/dev_data.json\n",
      "100%|██████████| 1000/1000 [00:01<00:00, 537.61it/s]\n"
     ]
    }
   ],
   "source": [
    "data_path = 'data'\r\n",
    "batch_size = 32\r\n",
    "max_seq_length = 128\r\n",
    "\r\n",
    "train_file_path = os.path.join(data_path, 'train_data.json')\r\n",
    "train_dataset = DuIEDataset.from_file(\r\n",
    "    train_file_path, tokenizer, max_seq_length, True)\r\n",
    "train_batch_sampler = paddle.io.BatchSampler(\r\n",
    "    train_dataset, batch_size=batch_size, shuffle=True, drop_last=True)\r\n",
    "collator = DataCollator()\r\n",
    "train_data_loader = paddle.io.DataLoader(\r\n",
    "    dataset=train_dataset,\r\n",
    "    batch_sampler=train_batch_sampler,\r\n",
    "    collate_fn=collator)\r\n",
    "\r\n",
    "eval_file_path = os.path.join(data_path, 'dev_data.json')\r\n",
    "test_dataset = DuIEDataset.from_file(\r\n",
    "    eval_file_path, tokenizer, max_seq_length, True)\r\n",
    "test_batch_sampler = paddle.io.BatchSampler(\r\n",
    "    test_dataset, batch_size=batch_size, shuffle=False, drop_last=True)\r\n",
    "test_data_loader = paddle.io.DataLoader(\r\n",
    "    dataset=test_dataset,\r\n",
    "    batch_sampler=test_batch_sampler,\r\n",
    "    collate_fn=collator)"
   ]
  },
  {
   "cell_type": "code",
   "execution_count": null,
   "metadata": {
    "collapsed": false
   },
   "outputs": [],
   "source": [
    "\r\n",
    "import paddle.nn as nn\r\n",
    "\r\n",
    "class BCELossForDuIE(nn.Layer):\r\n",
    "    def __init__(self, ):\r\n",
    "        super(BCELossForDuIE, self).__init__()\r\n",
    "        self.criterion = nn.BCEWithLogitsLoss(reduction='none')\r\n",
    "\r\n",
    "    def forward(self, logits, labels, mask):\r\n",
    "        loss = self.criterion(logits, labels)\r\n",
    "        mask = paddle.cast(mask, 'float32')\r\n",
    "        loss = loss * mask.unsqueeze(-1)\r\n",
    "        loss = paddle.sum(loss.mean(axis=2), axis=1) / paddle.sum(mask, axis=1)\r\n",
    "        loss = loss.mean()\r\n",
    "        return loss"
   ]
  },
  {
   "cell_type": "code",
   "execution_count": null,
   "metadata": {
    "collapsed": false
   },
   "outputs": [],
   "source": [
    "from utils import write_prediction_results, get_precision_recall_f1, decoding\r\n",
    "\r\n",
    "@paddle.no_grad()\r\n",
    "def evaluate(model, criterion, data_loader, file_path, mode):\r\n",
    "    \"\"\"\r\n",
    "    mode eval:\r\n",
    "    eval on development set and compute P/R/F1, called between training.\r\n",
    "    mode predict:\r\n",
    "    eval on development / test set, then write predictions to \\\r\n",
    "        predict_test.json and predict_test.json.zip \\\r\n",
    "        under /home/aistudio/relation_extraction/data dir for later submission or evaluation.\r\n",
    "    \"\"\"\r\n",
    "    example_all = []\r\n",
    "    with open(file_path, \"r\", encoding=\"utf-8\") as fp:\r\n",
    "        for line in fp:\r\n",
    "            example_all.append(json.loads(line))\r\n",
    "    id2spo_path = os.path.join(os.path.dirname(file_path), \"id2spo.json\")\r\n",
    "    with open(id2spo_path, 'r', encoding='utf8') as fp:\r\n",
    "        id2spo = json.load(fp)\r\n",
    "\r\n",
    "    model.eval()\r\n",
    "    loss_all = 0\r\n",
    "    eval_steps = 0\r\n",
    "    formatted_outputs = []\r\n",
    "    current_idx = 0\r\n",
    "    for batch in tqdm(data_loader, total=len(data_loader)):\r\n",
    "        eval_steps += 1\r\n",
    "        input_ids, seq_len, tok_to_orig_start_index, tok_to_orig_end_index, labels = batch\r\n",
    "        logits = model(input_ids=input_ids)\r\n",
    "        mask = (input_ids != 0).logical_and((input_ids != 1)).logical_and((input_ids != 2))\r\n",
    "        loss = criterion(logits, labels, mask)\r\n",
    "        loss_all += loss.numpy().item()\r\n",
    "        probs = F.sigmoid(logits)\r\n",
    "        logits_batch = probs.numpy()\r\n",
    "        seq_len_batch = seq_len.numpy()\r\n",
    "        tok_to_orig_start_index_batch = tok_to_orig_start_index.numpy()\r\n",
    "        tok_to_orig_end_index_batch = tok_to_orig_end_index.numpy()\r\n",
    "        formatted_outputs.extend(decoding(example_all[current_idx: current_idx+len(logits)],\r\n",
    "                                          id2spo,\r\n",
    "                                          logits_batch,\r\n",
    "                                          seq_len_batch,\r\n",
    "                                          tok_to_orig_start_index_batch,\r\n",
    "                                          tok_to_orig_end_index_batch))\r\n",
    "        current_idx = current_idx+len(logits)\r\n",
    "    loss_avg = loss_all / eval_steps\r\n",
    "    print(\"eval loss: %f\" % (loss_avg))\r\n",
    "\r\n",
    "    if mode == \"predict\":\r\n",
    "        predict_file_path = os.path.join(\"/home/aistudio/relation_extraction/data\", 'predictions.json')\r\n",
    "    else:\r\n",
    "        predict_file_path = os.path.join(\"/home/aistudio/relation_extraction/data\", 'predict_eval.json')\r\n",
    "\r\n",
    "    predict_zipfile_path = write_prediction_results(formatted_outputs,\r\n",
    "                                                    predict_file_path)\r\n",
    "\r\n",
    "    if mode == \"eval\":\r\n",
    "        precision, recall, f1 = get_precision_recall_f1(file_path,\r\n",
    "                                                        predict_zipfile_path)\r\n",
    "        os.system('rm {} {}'.format(predict_file_path, predict_zipfile_path))\r\n",
    "        return precision, recall, f1\r\n",
    "    elif mode != \"predict\":\r\n",
    "        raise Exception(\"wrong mode for eval func\")"
   ]
  },
  {
   "cell_type": "code",
   "execution_count": null,
   "metadata": {
    "collapsed": false
   },
   "outputs": [],
   "source": [
    "from paddlenlp.transformers import LinearDecayWithWarmup\r\n",
    "\r\n",
    "learning_rate = 2e-5\r\n",
    "num_train_epochs = 5\r\n",
    "warmup_ratio = 0.06\r\n",
    "\r\n",
    "criterion = BCELossForDuIE()\r\n",
    "# Defines learning rate strategy.\r\n",
    "steps_by_epoch = len(train_data_loader)\r\n",
    "num_training_steps = steps_by_epoch * num_train_epochs\r\n",
    "lr_scheduler = LinearDecayWithWarmup(learning_rate, num_training_steps, warmup_ratio)\r\n",
    "optimizer = paddle.optimizer.AdamW(\r\n",
    "    learning_rate=lr_scheduler,\r\n",
    "    parameters=model.parameters(),\r\n",
    "    apply_decay_param_fun=lambda x: x in [\r\n",
    "        p.name for n, p in model.named_parameters()\r\n",
    "        if not any(nd in n for nd in [\"bias\", \"norm\"])])"
   ]
  },
  {
   "cell_type": "code",
   "execution_count": null,
   "metadata": {
    "collapsed": false
   },
   "outputs": [
    {
     "name": "stdout",
     "output_type": "stream",
     "text": [
      "\n",
      "=====start training of 0 epochs=====\n",
      "epoch: 0 / 2, steps: 0 / 312, loss: 0.752677, speed: 23.16 step/s\n",
      "epoch: 0 / 2, steps: 50 / 312, loss: 0.222001, speed: 0.62 step/s\n",
      "epoch: 0 / 2, steps: 100 / 312, loss: 0.106821, speed: 0.62 step/s\n",
      "epoch: 0 / 2, steps: 150 / 312, loss: 0.069342, speed: 0.62 step/s\n",
      "epoch: 0 / 2, steps: 200 / 312, loss: 0.049402, speed: 0.62 step/s\n",
      "epoch: 0 / 2, steps: 250 / 312, loss: 0.039829, speed: 0.62 step/s\n",
      "epoch: 0 / 2, steps: 300 / 312, loss: 0.030439, speed: 0.62 step/s\n",
      "epoch time footprint: 0 hour 8 min 25 sec\n",
      "\n",
      "=====start training of 1 epochs=====\n",
      "epoch: 1 / 2, steps: 38 / 312, loss: 0.026094, speed: 0.61 step/s\n",
      "epoch: 1 / 2, steps: 88 / 312, loss: 0.021893, speed: 0.62 step/s\n",
      "epoch: 1 / 2, steps: 138 / 312, loss: 0.020167, speed: 0.62 step/s\n",
      "epoch: 1 / 2, steps: 188 / 312, loss: 0.018819, speed: 0.62 step/s\n",
      "epoch: 1 / 2, steps: 238 / 312, loss: 0.016692, speed: 0.62 step/s\n",
      "epoch: 1 / 2, steps: 288 / 312, loss: 0.014089, speed: 0.62 step/s\n",
      "epoch time footprint: 0 hour 8 min 25 sec\n",
      "\n",
      "=====start evaluating last ckpt of 624 steps=====\n"
     ]
    },
    {
     "name": "stderr",
     "output_type": "stream",
     "text": [
      "100%|██████████| 31/31 [00:17<00:00,  1.77it/s]\n"
     ]
    },
    {
     "name": "stdout",
     "output_type": "stream",
     "text": [
      "eval loss: 0.013576\n",
      "precision: 0.00\t recall: 0.00\t f1: 0.00\t\n",
      "\n",
      "=====training complete=====\n"
     ]
    }
   ],
   "source": [
    "import time\r\n",
    "import paddle.nn.functional as F\r\n",
    "\r\n",
    "# Starts training.\r\n",
    "global_step = 0\r\n",
    "logging_steps = 50\r\n",
    "save_steps = 10000\r\n",
    "num_train_epochs = 5\r\n",
    "output_dir = 'checkpoints11'\r\n",
    "tic_train = time.time()\r\n",
    "model.train()\r\n",
    "for epoch in range(num_train_epochs):\r\n",
    "    print(\"\\n=====start training of %d epochs=====\" % epoch)\r\n",
    "    tic_epoch = time.time()\r\n",
    "    for step, batch in enumerate(train_data_loader):\r\n",
    "        input_ids, seq_lens, tok_to_orig_start_index, tok_to_orig_end_index, labels = batch\r\n",
    "        logits = model(input_ids=input_ids)\r\n",
    "        mask = (input_ids != 0).logical_and((input_ids != 1)).logical_and(\r\n",
    "            (input_ids != 2))\r\n",
    "        loss = criterion(logits, labels, mask)\r\n",
    "        loss.backward()\r\n",
    "        optimizer.step()\r\n",
    "        lr_scheduler.step()\r\n",
    "        optimizer.clear_gradients()\r\n",
    "        loss_item = loss.numpy().item()\r\n",
    "\r\n",
    "        if global_step % logging_steps == 0:\r\n",
    "            print(\r\n",
    "                \"epoch: %d / %d, steps: %d / %d, loss: %f, speed: %.2f step/s\"\r\n",
    "                % (epoch, num_train_epochs, step, steps_by_epoch,\r\n",
    "                    loss_item, logging_steps / (time.time() - tic_train)))\r\n",
    "            tic_train = time.time()\r\n",
    "\r\n",
    "        if global_step % save_steps == 0 and global_step != 0:\r\n",
    "            print(\"\\n=====start evaluating ckpt of %d steps=====\" %\r\n",
    "                    global_step)\r\n",
    "            precision, recall, f1 = evaluate(\r\n",
    "                model, criterion, test_data_loader, eval_file_path, \"eval\")\r\n",
    "            print(\"precision: %.2f\\t recall: %.2f\\t f1: %.2f\\t\" %\r\n",
    "                    (100 * precision, 100 * recall, 100 * f1))\r\n",
    "            print(\"saving checkpoing model_%d.pdparams to %s \" %\r\n",
    "                    (global_step, output_dir))\r\n",
    "            paddle.save(model.state_dict(),\r\n",
    "                        os.path.join(output_dir, \r\n",
    "                                        \"model_%d.pdparams\" % global_step))\r\n",
    "            model.train()\r\n",
    "\r\n",
    "        global_step += 1\r\n",
    "    tic_epoch = time.time() - tic_epoch\r\n",
    "    print(\"epoch time footprint: %d hour %d min %d sec\" %\r\n",
    "            (tic_epoch // 3600, (tic_epoch % 3600) // 60, tic_epoch % 60))\r\n",
    "\r\n",
    "# Does final evaluation.\r\n",
    "print(\"\\n=====start evaluating last ckpt of %d steps=====\" %\r\n",
    "        global_step)\r\n",
    "precision, recall, f1 = evaluate(model, criterion, test_data_loader,\r\n",
    "                                    eval_file_path, \"eval\")\r\n",
    "print(\"precision: %.2f\\t recall: %.2f\\t f1: %.2f\\t\" %\r\n",
    "        (100 * precision, 100 * recall, 100 * f1))\r\n",
    "paddle.save(model.state_dict(),\r\n",
    "            os.path.join(output_dir,\r\n",
    "                            \"model_%d.pdparams\" % global_step))\r\n",
    "print(\"\\n=====training complete=====\")"
   ]
  },
  {
   "cell_type": "code",
   "execution_count": 2,
   "metadata": {
    "collapsed": false
   },
   "outputs": [
    {
     "name": "stdout",
     "output_type": "stream",
     "text": [
      "/home/aistudio/relation_extraction\n"
     ]
    }
   ],
   "source": [
    "%cd relation_extraction/"
   ]
  },
  {
   "cell_type": "code",
   "execution_count": 4,
   "metadata": {
    "collapsed": false
   },
   "outputs": [
    {
     "name": "stdout",
     "output_type": "stream",
     "text": [
      "+ export CUDA_VISIBLE_DEVICES=0\n",
      "+ CUDA_VISIBLE_DEVICES=0\n",
      "+ export BATCH_SIZE=8\n",
      "+ BATCH_SIZE=8\n",
      "+ export CKPT=./checkpoints1/model_624.pdparams\n",
      "+ CKPT=./checkpoints1/model_624.pdparams\n",
      "+ export DATASET_FILE=./data/test_data.json\n",
      "+ DATASET_FILE=./data/test_data.json\n",
      "+ python run_duie.py --do_predict --init_checkpoint ./checkpoints1/model_624.pdparams --predict_data_file ./data/test_data.json --max_seq_length 512 --batch_size 8\n",
      "\u001b[32m[2021-06-18 13:42:53,689] [    INFO]\u001b[0m - Already cached /home/aistudio/.paddlenlp/models/roberta-wwm-ext-large/roberta_chn_large.pdparams\u001b[0m\n",
      "W0618 13:42:53.690315 13128 device_context.cc:404] Please NOTE: device: 0, GPU Compute Capability: 7.0, Driver API Version: 10.1, Runtime API Version: 10.1\n",
      "W0618 13:42:53.694698 13128 device_context.cc:422] device: 0, cuDNN Version: 7.6.\n",
      "/opt/conda/envs/python35-paddle120-env/lib/python3.7/site-packages/paddle/fluid/dygraph/layers.py:1297: UserWarning: Skip loading for classifier.weight. classifier.weight is not found in the provided dict.\n",
      "  warnings.warn((\"Skip loading for {}. \".format(key) + str(err)))\n",
      "/opt/conda/envs/python35-paddle120-env/lib/python3.7/site-packages/paddle/fluid/dygraph/layers.py:1297: UserWarning: Skip loading for classifier.bias. classifier.bias is not found in the provided dict.\n",
      "  warnings.warn((\"Skip loading for {}. \".format(key) + str(err)))\n",
      "\u001b[32m[2021-06-18 13:43:09,570] [    INFO]\u001b[0m - Found /home/aistudio/.paddlenlp/models/roberta-wwm-ext-large/vocab.txt\u001b[0m\n",
      "\u001b[32m[2021-06-18 13:43:09,589] [    INFO]\u001b[0m - Preprocessing data, loaded from ./data/test_data.json\u001b[0m\n",
      "100%|██████████████████████████████████████| 1000/1000 [00:04<00:00, 232.86it/s]\n",
      "\n",
      "=====start predicting=====\n",
      "100%|█████████████████████████████████████████| 125/125 [01:22<00:00,  1.52it/s]\n",
      "eval loss: 0.033731\n",
      "=====predicting complete=====\n",
      "\u001b[0m"
     ]
    }
   ],
   "source": [
    "!bash predict.sh"
   ]
  },
  {
   "cell_type": "markdown",
   "metadata": {
    "collapsed": false
   },
   "source": [
    "### 模型集成\n",
    "\n",
    "使用多个模型进行训练预测，将各个模型预测结果进行融合。"
   ]
  },
  {
   "cell_type": "markdown",
   "metadata": {
    "collapsed": false
   },
   "source": [
    "以上基线实现基于PaddleNLP，开源不易，希望大家多多支持~ \n",
    "**记得给[PaddleNLP](https://github.com/PaddlePaddle/PaddleNLP)点个小小的Star⭐，及时跟踪最新消息和功能哦**\n",
    "\n",
    "GitHub地址：[https://github.com/PaddlePaddle/PaddleNLP](https://github.com/PaddlePaddle/PaddleNLP)\n"
   ]
  }
 ],
 "metadata": {
  "kernelspec": {
   "display_name": "PaddlePaddle 2.1.0 (Python 3.5)",
   "language": "python",
   "name": "py35-paddle1.2.0"
  },
  "language_info": {
   "codemirror_mode": {
    "name": "ipython",
    "version": 3
   },
   "file_extension": ".py",
   "mimetype": "text/x-python",
   "name": "python",
   "nbconvert_exporter": "python",
   "pygments_lexer": "ipython3",
   "version": "3.7.4"
  }
 },
 "nbformat": 4,
 "nbformat_minor": 1
}
